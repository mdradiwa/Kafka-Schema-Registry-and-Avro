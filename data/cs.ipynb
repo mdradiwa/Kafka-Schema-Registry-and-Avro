{
 "cells": [
  {
   "cell_type": "code",
   "execution_count": 23,
   "metadata": {},
   "outputs": [],
   "source": [
    "import pandas as pd\n",
    "import numpy as np"
   ]
  },
  {
   "cell_type": "code",
   "execution_count": 84,
   "metadata": {},
   "outputs": [
    {
     "name": "stdout",
     "output_type": "stream",
     "text": [
      "           Date     Open     High      Low    Close         Volume  \\\n",
      "0  Jul 31, 2017  2763.24  2889.62  2720.61  2875.34    860,575,000   \n",
      "1  Jul 30, 2017  2724.39  2758.53  2644.85  2757.18    705,943,000   \n",
      "2  Jul 29, 2017  2807.02  2808.76  2692.80  2726.45    803,746,000   \n",
      "3  Jul 28, 2017  2679.73  2897.45  2679.73  2809.01  1,380,100,000   \n",
      "4  Jul 27, 2017  2538.71  2693.32  2529.34  2671.78    789,104,000   \n",
      "\n",
      "       Market Cap  \n",
      "0  45,535,800,000  \n",
      "1  44,890,700,000  \n",
      "2  46,246,700,000  \n",
      "3  44,144,400,000  \n",
      "4  41,816,500,000  \n"
     ]
    }
   ],
   "source": [
    "df = pd.read_csv('bitcoin_price_Training.csv')\n",
    "print(df.head())"
   ]
  },
  {
   "cell_type": "code",
   "execution_count": 85,
   "metadata": {},
   "outputs": [
    {
     "name": "stdout",
     "output_type": "stream",
     "text": [
      "Date           object\n",
      "Open          float64\n",
      "High          float64\n",
      "Low           float64\n",
      "Close         float64\n",
      "Volume         object\n",
      "Market Cap     object\n",
      "dtype: object\n",
      "(1556, 7)\n"
     ]
    }
   ],
   "source": [
    "print(df.dtypes)\n",
    "print(df.shape)"
   ]
  },
  {
   "cell_type": "code",
   "execution_count": 88,
   "metadata": {},
   "outputs": [
    {
     "name": "stdout",
     "output_type": "stream",
     "text": [
      "              Date    Open    High     Low   Close Volume     Market Cap\n",
      "1313  Dec 26, 2013  683.94  777.75  683.94  761.98      -  8,326,270,000\n",
      "1314  Dec 25, 2013  666.31  682.70  649.48  682.21      -  8,108,930,000\n",
      "1315  Dec 24, 2013  672.36  684.39  645.71  665.58      -  8,179,730,000\n",
      "1316  Dec 23, 2013  613.06  680.91  611.04  673.41      -  7,455,670,000\n",
      "1317  Dec 22, 2013  601.78  666.74  585.64  617.18      -  7,315,940,000\n",
      "...            ...     ...     ...     ...     ...    ...            ...\n",
      "1551  May 02, 2013  116.38  125.60   92.28  105.21      -  1,292,190,000\n",
      "1552  May 01, 2013  139.00  139.89  107.72  116.99      -  1,542,820,000\n",
      "1553  Apr 30, 2013  144.00  146.93  134.05  139.00      -  1,597,780,000\n",
      "1554  Apr 29, 2013  134.44  147.49  134.00  144.54      -  1,491,160,000\n",
      "1555  Apr 28, 2013  135.30  135.98  132.10  134.21      -  1,500,520,000\n",
      "\n",
      "[243 rows x 7 columns]\n"
     ]
    }
   ],
   "source": [
    "# Print out rows that contain a hyphen ('-')\n",
    "print(df[df.apply(lambda x: '-' in x.values, axis=1)])"
   ]
  },
  {
   "cell_type": "code",
   "execution_count": 89,
   "metadata": {},
   "outputs": [],
   "source": [
    "for column in df.columns:\n",
    "    # Check if the column is of object type and not the 'Date' column\n",
    "    if df[column].dtype == 'object' and column != 'Date':\n",
    "        # Drop rows that contain a hyphen (-)\n",
    "        df = df.drop(df[df.apply(lambda x: '-' in x.values, axis=1)].index)\n",
    "        # Removing the commas and transform the decimal number into long integer\n",
    "        df[column] = df[column].str.replace(',', '').astype(np.int64)"
   ]
  },
  {
   "cell_type": "code",
   "execution_count": 90,
   "metadata": {},
   "outputs": [
    {
     "name": "stdout",
     "output_type": "stream",
     "text": [
      "           Date     Open     High      Low    Close      Volume   Market Cap\n",
      "0  Jul 31, 2017  2763.24  2889.62  2720.61  2875.34   860575000  45535800000\n",
      "1  Jul 30, 2017  2724.39  2758.53  2644.85  2757.18   705943000  44890700000\n",
      "2  Jul 29, 2017  2807.02  2808.76  2692.80  2726.45   803746000  46246700000\n",
      "3  Jul 28, 2017  2679.73  2897.45  2679.73  2809.01  1380100000  44144400000\n",
      "4  Jul 27, 2017  2538.71  2693.32  2529.34  2671.78   789104000  41816500000\n",
      "              Date    Open    High     Low   Close    Volume  Market Cap\n",
      "1308  Dec 31, 2013  760.32  760.58  738.17  754.01  20897300  9268240000\n",
      "1309  Dec 30, 2013  741.35  766.60  740.24  756.13  20707700  9037000000\n",
      "1310  Dec 29, 2013  728.05  748.61  714.44  745.05  19011300  8872600000\n",
      "1311  Dec 28, 2013  737.98  747.06  705.35  727.83  32505800  8990850000\n",
      "1312  Dec 27, 2013  763.28  777.51  713.60  735.07  46862700  9295570000\n"
     ]
    }
   ],
   "source": [
    "print(df.head())\n",
    "print(df.tail())"
   ]
  },
  {
   "cell_type": "code",
   "execution_count": 92,
   "metadata": {},
   "outputs": [
    {
     "name": "stdout",
     "output_type": "stream",
     "text": [
      "(1313, 7)\n",
      "Date           object\n",
      "Open          float64\n",
      "High          float64\n",
      "Low           float64\n",
      "Close         float64\n",
      "Volume          int64\n",
      "Market Cap      int64\n",
      "dtype: object\n"
     ]
    }
   ],
   "source": [
    "print(df.shape)\n",
    "print(df.dtypes)\n"
   ]
  },
  {
   "cell_type": "code",
   "execution_count": null,
   "metadata": {},
   "outputs": [],
   "source": [
    "df.to_csv('bitcoin_price_Training_Cleaned.csv', index=False)"
   ]
  }
 ],
 "metadata": {
  "kernelspec": {
   "display_name": "Python 3",
   "language": "python",
   "name": "python3"
  },
  "language_info": {
   "codemirror_mode": {
    "name": "ipython",
    "version": 3
   },
   "file_extension": ".py",
   "mimetype": "text/x-python",
   "name": "python",
   "nbconvert_exporter": "python",
   "pygments_lexer": "ipython3",
   "version": "3.11.2"
  },
  "orig_nbformat": 4
 },
 "nbformat": 4,
 "nbformat_minor": 2
}
